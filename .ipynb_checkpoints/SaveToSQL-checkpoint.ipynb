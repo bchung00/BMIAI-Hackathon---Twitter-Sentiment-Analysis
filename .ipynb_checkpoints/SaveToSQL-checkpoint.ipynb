{
 "cells": [
  {
   "cell_type": "code",
   "execution_count": 118,
   "metadata": {},
   "outputs": [],
   "source": [
    "import tweepy\n",
    "import time\n",
    "from prettytable import PrettyTable\n",
    "from datetime import datetime\n",
    "import sqlite3\n",
    "\n",
    "\n",
    "def searchTerm(query, max_tweets):\n",
    "    conn = sqlite3.connect('twitterprofiles.db')\n",
    "    c = conn.cursor()\n",
    "\n",
    "    consumer_key = open(\"consumer key.txt\",\"r\").read()\n",
    "    consumer_secret = open(\"consumer secret key.txt\",\"r\").read()\n",
    "    access_token = open(\"access token.txt\",\"r\").read()\n",
    "    access_token_secret = open(\"access token secret.txt\",\"r\").read()\n",
    "    auth = tweepy.OAuthHandler(consumer_key, consumer_secret)\n",
    "    auth.set_access_token(access_token, access_token_secret)\n",
    "\n",
    "    api = tweepy.API(auth, wait_on_rate_limit=True)\n",
    "    \n",
    "    public_tweets = tweepy.Cursor(api.search, q=query).items(max_tweets)\n",
    "    \n",
    "    c.execute('CREATE TABLE IF NOT EXISTS '+query+' (dbtweetid int PRIMARY KEY, dbtweetdate text, dbtweettext text, polarity real)')\n",
    "    \n",
    "    for tweet in public_tweets:\n",
    "        tweetid = tweet.id\n",
    "        tweetdate = tweet.created_at\n",
    "        tweettext = tweet.text\n",
    "        polarity = 1\n",
    "        x.add_row([n,tweetid, tweetdate, tweettext, polarity])\n",
    "        c.execute(\"insert into \"+query+\" values (?,?,?,?)\", (tweetid, tweetdate, tweettext, polarity))\n",
    "        n+=1\n",
    "        \n",
    "    conn.commit()\n",
    "    c.close()"
   ]
  },
  {
   "cell_type": "code",
   "execution_count": 119,
   "metadata": {},
   "outputs": [],
   "source": []
  },
  {
   "cell_type": "code",
   "execution_count": 120,
   "metadata": {},
   "outputs": [],
   "source": []
  },
  {
   "cell_type": "code",
   "execution_count": 121,
   "metadata": {},
   "outputs": [],
   "source": []
  },
  {
   "cell_type": "code",
   "execution_count": 122,
   "metadata": {},
   "outputs": [
    {
     "data": {
      "text/plain": [
       "<sqlite3.Cursor at 0x8108260>"
      ]
     },
     "execution_count": 122,
     "metadata": {},
     "output_type": "execute_result"
    }
   ],
   "source": []
  },
  {
   "cell_type": "code",
   "execution_count": 123,
   "metadata": {},
   "outputs": [],
   "source": []
  },
  {
   "cell_type": "code",
   "execution_count": 124,
   "metadata": {},
   "outputs": [
    {
     "name": "stdout",
     "output_type": "stream",
     "text": [
      "1058848403277443072,\n",
      "2018-11-03 22:28:26,\n",
      "RT @seungminkim: Trump noted Donnelly will campaign with \"Barack H. Obama\" this weekend -- writing out the \"H\" with his finger in the air.,\n",
      "1.0,\n",
      "\n",
      "\n",
      "1058848403084341248,\n",
      "2018-11-03 22:28:26,\n",
      "RT @EdKrassen: HBO JUST OWNED TRUMP!\n",
      "\n",
      "After Trump made a Tweet that obviously was intended to replicate a \"Game of Thrones\" message, saying…,\n",
      "1.0,\n",
      "\n",
      "\n",
      "1058848403046707203,\n",
      "2018-11-03 22:28:26,\n",
      "RT @SenMarkey: Donald Trump and Republicans have to distract from their plan to steal your health care because they know it’s so unpopular.…,\n",
      "1.0,\n",
      "\n",
      "\n",
      "1058848402988040192,\n",
      "2018-11-03 22:28:26,\n",
      "RT @AdamSchiff: 2016: Donald Trump accuses Ted Cruz’s father of killing JFK. \n",
      "\n",
      "2018: Ted Cruz accuses Beto of paying Central American migra…,\n",
      "1.0,\n",
      "\n",
      "\n",
      "1058848402497290240,\n",
      "2018-11-03 22:28:26,\n",
      "RT @maggieNYT: Arpaio received Trump’s first presidential  pardon. https://t.co/l0dKO61Dmu,\n",
      "1.0,\n",
      "\n",
      "\n",
      "1058848402375692288,\n",
      "2018-11-03 22:28:26,\n",
      "RT @67jewelCDH: Trump says Stacy Abrams isn't qualified to be Governor of Georgia.\n",
      "\n",
      "- High School Valedictorian\n",
      "- BA Spelman College magna…,\n",
      "1.0,\n",
      "\n",
      "\n",
      "1058848402207858688,\n",
      "2018-11-03 22:28:26,\n",
      "RT @WayneDupreeShow: Obama says he started Trump's economy 😳\n",
      "\n",
      "How is that possible? Trump got rid of Obama's job killing regulations, gave…,\n",
      "1.0,\n",
      "\n",
      "\n",
      "1058848401788493826,\n",
      "2018-11-03 22:28:26,\n",
      "🔴 Trump Rally LIVE: President Trump Rally in Pensacola, Florida - Novemb... https://t.co/z1M0dFSoN2 via @YouTube,\n",
      "1.0,\n",
      "\n",
      "\n",
      "1058848401725345793,\n",
      "2018-11-03 22:28:26,\n",
      "RT @truemedianews: #USA #America #Americans #Vote #VoteBlue For 🇺🇸      \n",
      "\n",
      "TAKE BACK THE #HOUSE AND #SENATE FOR #USA! THEY SHOULD BE WORKING…,\n",
      "1.0,\n",
      "\n",
      "\n",
      "1058848401687789568,\n",
      "2018-11-03 22:28:26,\n",
      "RT @co_rapunzel4: It would be smarter and ultimately more efficient economically, and in all aspects, if we put barbed wire around a small…,\n",
      "1.0,\n",
      "\n",
      "\n"
     ]
    }
   ],
   "source": []
  },
  {
   "cell_type": "code",
   "execution_count": 117,
   "metadata": {
    "scrolled": false
   },
   "outputs": [],
   "source": []
  },
  {
   "cell_type": "code",
   "execution_count": 112,
   "metadata": {},
   "outputs": [],
   "source": [
    "def clearTable(tableName):\n",
    "    \n",
    "    conn = sqlite3.connect('twitterprofiles.db')\n",
    "    c = conn.cursor()\n",
    "    c.execute(F\"DELETE FROM {tableName}\")\n",
    "    conn.commit()\n",
    "    c.close()\n",
    "    \n",
    "clearTable('Trump')"
   ]
  },
  {
   "cell_type": "code",
   "execution_count": null,
   "metadata": {},
   "outputs": [],
   "source": []
  },
  {
   "cell_type": "code",
   "execution_count": null,
   "metadata": {},
   "outputs": [],
   "source": []
  }
 ],
 "metadata": {
  "kernelspec": {
   "display_name": "Python 3",
   "language": "python",
   "name": "python3"
  },
  "language_info": {
   "codemirror_mode": {
    "name": "ipython",
    "version": 3
   },
   "file_extension": ".py",
   "mimetype": "text/x-python",
   "name": "python",
   "nbconvert_exporter": "python",
   "pygments_lexer": "ipython3",
   "version": "3.6.4"
  }
 },
 "nbformat": 4,
 "nbformat_minor": 2
}

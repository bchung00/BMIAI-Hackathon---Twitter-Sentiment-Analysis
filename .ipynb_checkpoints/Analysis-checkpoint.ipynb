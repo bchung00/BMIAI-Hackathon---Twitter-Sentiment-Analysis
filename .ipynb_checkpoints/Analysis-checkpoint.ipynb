{
 "cells": [
  {
   "cell_type": "code",
   "execution_count": 1,
   "metadata": {},
   "outputs": [],
   "source": [
    "import requests\n",
    "import json\n",
    "import pandas as pd\n",
    "import datetime\n",
    "import math\n",
    "import seaborn as sns\n",
    "import tweepy\n",
    "import tkinter\n",
    "from time import sleep\n",
    "import matplotlib.pyplot as plt\n",
    "%matplotlib inline"
   ]
  },
  {
   "cell_type": "code",
   "execution_count": null,
   "metadata": {},
   "outputs": [],
   "source": [
    "# testing"
   ]
  },
  {
   "cell_type": "markdown",
   "metadata": {},
   "source": [
    "# Pulling Data from Twitter\n"
   ]
  },
  {
   "cell_type": "code",
   "execution_count": 2,
   "metadata": {},
   "outputs": [],
   "source": [
    "\n",
    "\n",
    "consumer_key = open(\"consumer key.txt\",\"r\").read()\n",
    "consumer_secret = open(\"consumer secret key.txt\",\"r\").read()\n",
    "access_token = open(\"access token.txt\",\"r\").read()\n",
    "access_token_secret = open(\"access token secret.txt\",\"r\").read()\n",
    "auth = tweepy.OAuthHandler(consumer_key, consumer_secret)\n",
    "auth.set_access_token(access_token, access_token_secret)\n",
    "api = tweepy.API(auth, wait_on_rate_limit=True)"
   ]
  },
  {
   "cell_type": "code",
   "execution_count": 15,
   "metadata": {},
   "outputs": [],
   "source": [
    "import tweepy\n",
    "import time\n",
    "from datetime import datetime\n",
    "import sqlite3\n",
    "\n",
    "\n",
    "def searchTerm(query, max_tweets):\n",
    "    conn = sqlite3.connect('twitterprofiles.db')\n",
    "    c = conn.cursor()\n",
    "    \n",
    "    public_tweets = tweepy.Cursor(api.search, q=query).items(max_tweets)\n",
    "    \n",
    "    c.execute('CREATE TABLE IF NOT EXISTS '+query+' (dbtweetid int PRIMARY KEY, dbtweetdate text, dbtweettext text, polarity real)')\n",
    "    \n",
    "    for tweet in public_tweets:\n",
    "        if (tweet.lang == \"en\") and (not tweet.retweeted) and ('RT @' not in tweet.text):\n",
    "            tweetid = tweet.id\n",
    "            tweetdate = tweet.created_at\n",
    "            tweettext = tweet.text\n",
    "            polarity = analyzer.polarity_scores(tweettext)['compound']\n",
    "            c.execute(\"insert into \"+query+\" values (?,?,?,?)\", (tweetid, tweetdate, tweettext, polarity))\n",
    "            \n",
    "    conn.commit()\n",
    "    c.close()    \n"
   ]
  },
  {
   "cell_type": "code",
   "execution_count": 23,
   "metadata": {},
   "outputs": [],
   "source": [
    "def clearTable(tableName):\n",
    "    \n",
    "    conn = sqlite3.connect('twitterprofiles.db')\n",
    "    c = conn.cursor()\n",
    "    c.execute(F\"DELETE FROM {tableName}\")\n",
    "    conn.commit()\n",
    "    c.close()\n",
    "    \n",
    "clearTable('Trump')"
   ]
  },
  {
   "cell_type": "code",
   "execution_count": 46,
   "metadata": {},
   "outputs": [],
   "source": [
    "searchTerm('Trump', 100)\n"
   ]
  },
  {
   "cell_type": "code",
   "execution_count": 47,
   "metadata": {},
   "outputs": [],
   "source": [
    "conn = sqlite3.connect('twitterprofiles.db')\n",
    "c = conn.cursor()\n",
    "queryDF = pd.read_sql('Select * FROM Trump;', conn)\n",
    "queryDF\n",
    "c.close()\n",
    "    "
   ]
  },
  {
   "cell_type": "code",
   "execution_count": 25,
   "metadata": {},
   "outputs": [],
   "source": [
    "def visualizeQuery(query):\n",
    "    conn = sqlite3.connect('twitterprofiles.db')\n",
    "    queryDF = pd.read_sql(f\"Select * FROM {query};\", conn)\n",
    "    queryDF.plot(x=queryDF['dbtweetid'],y=queryDF['polarity'],kind='scatter')"
   ]
  },
  {
   "cell_type": "code",
   "execution_count": 45,
   "metadata": {},
   "outputs": [],
   "source": [
    "clearTable('Trump')"
   ]
  },
  {
   "cell_type": "code",
   "execution_count": 48,
   "metadata": {},
   "outputs": [
    {
     "data": {
      "text/html": [
       "<div>\n",
       "<style scoped>\n",
       "    .dataframe tbody tr th:only-of-type {\n",
       "        vertical-align: middle;\n",
       "    }\n",
       "\n",
       "    .dataframe tbody tr th {\n",
       "        vertical-align: top;\n",
       "    }\n",
       "\n",
       "    .dataframe thead th {\n",
       "        text-align: right;\n",
       "    }\n",
       "</style>\n",
       "<table border=\"1\" class=\"dataframe\">\n",
       "  <thead>\n",
       "    <tr style=\"text-align: right;\">\n",
       "      <th></th>\n",
       "      <th>dbtweetid</th>\n",
       "      <th>dbtweetdate</th>\n",
       "      <th>dbtweettext</th>\n",
       "      <th>polarity</th>\n",
       "    </tr>\n",
       "  </thead>\n",
       "  <tbody>\n",
       "    <tr>\n",
       "      <th>0</th>\n",
       "      <td>1058871325333299200</td>\n",
       "      <td>2018-11-03 23:59:31</td>\n",
       "      <td>@FoxNews @Jim_Jordan Voters have a choice betw...</td>\n",
       "      <td>-0.6808</td>\n",
       "    </tr>\n",
       "    <tr>\n",
       "      <th>1</th>\n",
       "      <td>1058871324691566592</td>\n",
       "      <td>2018-11-03 23:59:31</td>\n",
       "      <td>Trump is playing them all like a fiddle. The r...</td>\n",
       "      <td>0.7579</td>\n",
       "    </tr>\n",
       "    <tr>\n",
       "      <th>2</th>\n",
       "      <td>1058871323689185280</td>\n",
       "      <td>2018-11-03 23:59:31</td>\n",
       "      <td>@SpunkybyChance @Lawrence Anything is possible...</td>\n",
       "      <td>0.0000</td>\n",
       "    </tr>\n",
       "    <tr>\n",
       "      <th>3</th>\n",
       "      <td>1058871323571699713</td>\n",
       "      <td>2018-11-03 23:59:31</td>\n",
       "      <td>@ida_skibenes Well you have zero sense of humo...</td>\n",
       "      <td>0.8074</td>\n",
       "    </tr>\n",
       "    <tr>\n",
       "      <th>4</th>\n",
       "      <td>1058871323164844032</td>\n",
       "      <td>2018-11-03 23:59:30</td>\n",
       "      <td>Wilder met with Trump.. but publicly distanced...</td>\n",
       "      <td>0.5023</td>\n",
       "    </tr>\n",
       "    <tr>\n",
       "      <th>5</th>\n",
       "      <td>1058871321097105409</td>\n",
       "      <td>2018-11-03 23:59:30</td>\n",
       "      <td>yo donald trump, how ya doin'</td>\n",
       "      <td>0.0000</td>\n",
       "    </tr>\n",
       "    <tr>\n",
       "      <th>6</th>\n",
       "      <td>1058871318626611201</td>\n",
       "      <td>2018-11-03 23:59:29</td>\n",
       "      <td>@kjothesmartass @tamiguitar @ProudResister I w...</td>\n",
       "      <td>0.0000</td>\n",
       "    </tr>\n",
       "    <tr>\n",
       "      <th>7</th>\n",
       "      <td>1058871318374965249</td>\n",
       "      <td>2018-11-03 23:59:29</td>\n",
       "      <td>Iran general defiantly answers Trump’s ‘Game o...</td>\n",
       "      <td>0.0000</td>\n",
       "    </tr>\n",
       "    <tr>\n",
       "      <th>8</th>\n",
       "      <td>1058871318219837440</td>\n",
       "      <td>2018-11-03 23:59:29</td>\n",
       "      <td>SE Cupp: Trump is exploiting our anxiety\\nhttp...</td>\n",
       "      <td>-0.5574</td>\n",
       "    </tr>\n",
       "    <tr>\n",
       "      <th>9</th>\n",
       "      <td>1058871316642783233</td>\n",
       "      <td>2018-11-03 23:59:29</td>\n",
       "      <td>Robert Reich: Trump's 30 Biggest Broken Promis...</td>\n",
       "      <td>-0.1280</td>\n",
       "    </tr>\n",
       "    <tr>\n",
       "      <th>10</th>\n",
       "      <td>1058871315707449344</td>\n",
       "      <td>2018-11-03 23:59:29</td>\n",
       "      <td>You have no soul or heart ⁦@realDonaldTrump⁩ !...</td>\n",
       "      <td>-0.3595</td>\n",
       "    </tr>\n",
       "    <tr>\n",
       "      <th>11</th>\n",
       "      <td>1058871315262791686</td>\n",
       "      <td>2018-11-03 23:59:29</td>\n",
       "      <td>@realBlack_Trump @over50andright sorry. prayer...</td>\n",
       "      <td>-0.0772</td>\n",
       "    </tr>\n",
       "    <tr>\n",
       "      <th>12</th>\n",
       "      <td>1058871312414846976</td>\n",
       "      <td>2018-11-03 23:59:28</td>\n",
       "      <td>@AngelaEdwards @FoxNews @SebGorka A trump supp...</td>\n",
       "      <td>0.2732</td>\n",
       "    </tr>\n",
       "    <tr>\n",
       "      <th>13</th>\n",
       "      <td>1058871311341096960</td>\n",
       "      <td>2018-11-03 23:59:28</td>\n",
       "      <td>There appears to have been some sort of medica...</td>\n",
       "      <td>0.0000</td>\n",
       "    </tr>\n",
       "    <tr>\n",
       "      <th>14</th>\n",
       "      <td>1058871310925905925</td>\n",
       "      <td>2018-11-03 23:59:28</td>\n",
       "      <td>@kimco99 @DRUDGE_REPORT I know your not going ...</td>\n",
       "      <td>-0.1419</td>\n",
       "    </tr>\n",
       "    <tr>\n",
       "      <th>15</th>\n",
       "      <td>1058871310892388352</td>\n",
       "      <td>2018-11-03 23:59:28</td>\n",
       "      <td>@realDonaldTrump @AndrewGillum @RonDeSantisFL ...</td>\n",
       "      <td>0.0000</td>\n",
       "    </tr>\n",
       "    <tr>\n",
       "      <th>16</th>\n",
       "      <td>1058871310674223105</td>\n",
       "      <td>2018-11-03 23:59:27</td>\n",
       "      <td>\"At Trump Rallies, Women See a Hero Protecting...</td>\n",
       "      <td>0.5574</td>\n",
       "    </tr>\n",
       "  </tbody>\n",
       "</table>\n",
       "</div>"
      ],
      "text/plain": [
       "              dbtweetid          dbtweetdate  \\\n",
       "0   1058871325333299200  2018-11-03 23:59:31   \n",
       "1   1058871324691566592  2018-11-03 23:59:31   \n",
       "2   1058871323689185280  2018-11-03 23:59:31   \n",
       "3   1058871323571699713  2018-11-03 23:59:31   \n",
       "4   1058871323164844032  2018-11-03 23:59:30   \n",
       "5   1058871321097105409  2018-11-03 23:59:30   \n",
       "6   1058871318626611201  2018-11-03 23:59:29   \n",
       "7   1058871318374965249  2018-11-03 23:59:29   \n",
       "8   1058871318219837440  2018-11-03 23:59:29   \n",
       "9   1058871316642783233  2018-11-03 23:59:29   \n",
       "10  1058871315707449344  2018-11-03 23:59:29   \n",
       "11  1058871315262791686  2018-11-03 23:59:29   \n",
       "12  1058871312414846976  2018-11-03 23:59:28   \n",
       "13  1058871311341096960  2018-11-03 23:59:28   \n",
       "14  1058871310925905925  2018-11-03 23:59:28   \n",
       "15  1058871310892388352  2018-11-03 23:59:28   \n",
       "16  1058871310674223105  2018-11-03 23:59:27   \n",
       "\n",
       "                                          dbtweettext  polarity  \n",
       "0   @FoxNews @Jim_Jordan Voters have a choice betw...   -0.6808  \n",
       "1   Trump is playing them all like a fiddle. The r...    0.7579  \n",
       "2   @SpunkybyChance @Lawrence Anything is possible...    0.0000  \n",
       "3   @ida_skibenes Well you have zero sense of humo...    0.8074  \n",
       "4   Wilder met with Trump.. but publicly distanced...    0.5023  \n",
       "5                       yo donald trump, how ya doin'    0.0000  \n",
       "6   @kjothesmartass @tamiguitar @ProudResister I w...    0.0000  \n",
       "7   Iran general defiantly answers Trump’s ‘Game o...    0.0000  \n",
       "8   SE Cupp: Trump is exploiting our anxiety\\nhttp...   -0.5574  \n",
       "9   Robert Reich: Trump's 30 Biggest Broken Promis...   -0.1280  \n",
       "10  You have no soul or heart ⁦@realDonaldTrump⁩ !...   -0.3595  \n",
       "11  @realBlack_Trump @over50andright sorry. prayer...   -0.0772  \n",
       "12  @AngelaEdwards @FoxNews @SebGorka A trump supp...    0.2732  \n",
       "13  There appears to have been some sort of medica...    0.0000  \n",
       "14  @kimco99 @DRUDGE_REPORT I know your not going ...   -0.1419  \n",
       "15  @realDonaldTrump @AndrewGillum @RonDeSantisFL ...    0.0000  \n",
       "16  \"At Trump Rallies, Women See a Hero Protecting...    0.5574  "
      ]
     },
     "execution_count": 48,
     "metadata": {},
     "output_type": "execute_result"
    }
   ],
   "source": [
    "queryDF"
   ]
  },
  {
   "cell_type": "code",
   "execution_count": 49,
   "metadata": {},
   "outputs": [],
   "source": [
    "querygroup = queryDF.groupby('dbtweetdate').mean()"
   ]
  },
  {
   "cell_type": "code",
   "execution_count": 52,
   "metadata": {},
   "outputs": [
    {
     "data": {
      "text/html": [
       "<div>\n",
       "<style scoped>\n",
       "    .dataframe tbody tr th:only-of-type {\n",
       "        vertical-align: middle;\n",
       "    }\n",
       "\n",
       "    .dataframe tbody tr th {\n",
       "        vertical-align: top;\n",
       "    }\n",
       "\n",
       "    .dataframe thead th {\n",
       "        text-align: right;\n",
       "    }\n",
       "</style>\n",
       "<table border=\"1\" class=\"dataframe\">\n",
       "  <thead>\n",
       "    <tr style=\"text-align: right;\">\n",
       "      <th></th>\n",
       "      <th>dbtweetid</th>\n",
       "      <th>polarity</th>\n",
       "    </tr>\n",
       "    <tr>\n",
       "      <th>dbtweetdate</th>\n",
       "      <th></th>\n",
       "      <th></th>\n",
       "    </tr>\n",
       "  </thead>\n",
       "  <tbody>\n",
       "    <tr>\n",
       "      <th>2018-11-03 23:59:27</th>\n",
       "      <td>1058871310674223104</td>\n",
       "      <td>0.557400</td>\n",
       "    </tr>\n",
       "    <tr>\n",
       "      <th>2018-11-03 23:59:28</th>\n",
       "      <td>1058871311393559552</td>\n",
       "      <td>0.032825</td>\n",
       "    </tr>\n",
       "    <tr>\n",
       "      <th>2018-11-03 23:59:29</th>\n",
       "      <td>1058871317139073024</td>\n",
       "      <td>-0.187017</td>\n",
       "    </tr>\n",
       "    <tr>\n",
       "      <th>2018-11-03 23:59:30</th>\n",
       "      <td>1058871322130974720</td>\n",
       "      <td>0.251150</td>\n",
       "    </tr>\n",
       "    <tr>\n",
       "      <th>2018-11-03 23:59:31</th>\n",
       "      <td>1058871324321437696</td>\n",
       "      <td>0.221125</td>\n",
       "    </tr>\n",
       "  </tbody>\n",
       "</table>\n",
       "</div>"
      ],
      "text/plain": [
       "                               dbtweetid  polarity\n",
       "dbtweetdate                                       \n",
       "2018-11-03 23:59:27  1058871310674223104  0.557400\n",
       "2018-11-03 23:59:28  1058871311393559552  0.032825\n",
       "2018-11-03 23:59:29  1058871317139073024 -0.187017\n",
       "2018-11-03 23:59:30  1058871322130974720  0.251150\n",
       "2018-11-03 23:59:31  1058871324321437696  0.221125"
      ]
     },
     "execution_count": 52,
     "metadata": {},
     "output_type": "execute_result"
    }
   ],
   "source": [
    "querygroup"
   ]
  },
  {
   "cell_type": "code",
   "execution_count": 54,
   "metadata": {},
   "outputs": [
    {
     "data": {
      "text/plain": [
       "<matplotlib.axes._subplots.AxesSubplot at 0x20b04401cc0>"
      ]
     },
     "execution_count": 54,
     "metadata": {},
     "output_type": "execute_result"
    },
    {
     "data": {
      "image/png": "[encoded data removed]",
      "text/plain": [
       "<matplotlib.figure.Figure at 0x20b03eb7c50>"
      ]
     },
     "metadata": {
      "needs_background": "light"
     },
     "output_type": "display_data"
    }
   ],
   "source": [
    "querygroup.plot()"
   ]
  },
  {
   "cell_type": "code",
   "execution_count": 216,
   "metadata": {},
   "outputs": [],
   "source": [
    "def visualizeLocTrends(location):\n",
    "    Trends =api.trends_place(location)\n",
    "    Trendsdf = pd.DataFrame(Trends[0]['trends']).sort_values('tweet_volume', ascending=False).head(10)\n",
    "    # Incomplete"
   ]
  },
  {
   "cell_type": "code",
   "execution_count": 217,
   "metadata": {},
   "outputs": [],
   "source": [
    "def topicSentVisualization(topic):\n",
    "    results =  api.search(topic,rpp=100, lang='en', show_user=True)\n",
    "    df = pd.DataFrame(results)\n",
    "    # Incomplete"
   ]
  },
  {
   "cell_type": "markdown",
   "metadata": {},
   "source": [
    "# Sentiment Analysis"
   ]
  },
  {
   "cell_type": "code",
   "execution_count": null,
   "metadata": {},
   "outputs": [],
   "source": []
  },
  {
   "cell_type": "code",
   "execution_count": 8,
   "metadata": {},
   "outputs": [],
   "source": [
    "\n",
    "from vaderSentiment.vaderSentiment import SentimentIntensityAnalyzer\n",
    "\n",
    "analyzer = SentimentIntensityAnalyzer()"
   ]
  },
  {
   "cell_type": "code",
   "execution_count": null,
   "metadata": {},
   "outputs": [],
   "source": []
  },
  {
   "cell_type": "code",
   "execution_count": null,
   "metadata": {},
   "outputs": [],
   "source": []
  }
 ],
 "metadata": {
  "kernelspec": {
   "display_name": "Python 3",
   "language": "python",
   "name": "python3"
  },
  "language_info": {
   "codemirror_mode": {
    "name": "ipython",
    "version": 3
   },
   "file_extension": ".py",
   "mimetype": "text/x-python",
   "name": "python",
   "nbconvert_exporter": "python",
   "pygments_lexer": "ipython3",
   "version": "3.6.4"
  }
 },
 "nbformat": 4,
 "nbformat_minor": 2
}

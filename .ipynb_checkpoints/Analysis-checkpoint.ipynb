{
 "cells": [
  {
   "cell_type": "code",
   "execution_count": 1,
   "metadata": {},
   "outputs": [],
   "source": [
    "import requests\n",
    "import json\n",
    "import pandas as pd\n",
    "import datetime\n",
    "import math\n",
    "import seaborn as sns\n",
    "import tweepy\n",
    "import tkinter\n",
    "import time\n",
    "import sqlite3\n",
    "import matplotlib.pyplot as plt\n",
    "%matplotlib inline"
   ]
  },
  {
   "cell_type": "code",
   "execution_count": 3,
   "metadata": {},
   "outputs": [
    {
     "data": {
      "text/plain": [
       "'0.9.0'"
      ]
     },
     "execution_count": 3,
     "metadata": {},
     "output_type": "execute_result"
    }
   ],
   "source": [
    "sns.__version__"
   ]
  },
  {
   "cell_type": "markdown",
   "metadata": {},
   "source": [
    "# Pulling Data from Twitter\n"
   ]
  },
  {
   "cell_type": "code",
   "execution_count": 3,
   "metadata": {},
   "outputs": [],
   "source": [
    "\n",
    "\n",
    "consumer_key = open(\"consumer key.txt\",\"r\").read()\n",
    "consumer_secret = open(\"consumer secret key.txt\",\"r\").read()\n",
    "access_token = open(\"access token.txt\",\"r\").read()\n",
    "access_token_secret = open(\"access token secret.txt\",\"r\").read()\n",
    "auth = tweepy.OAuthHandler(consumer_key, consumer_secret)\n",
    "auth.set_access_token(access_token, access_token_secret)\n",
    "api = tweepy.API(auth, wait_on_rate_limit=True)"
   ]
  },
  {
   "cell_type": "code",
   "execution_count": 4,
   "metadata": {},
   "outputs": [],
   "source": [
    "\n",
    "\n",
    "\n",
    "def searchTerm(query, max_tweets):\n",
    "    conn = sqlite3.connect('twitterprofiles.db')\n",
    "    c = conn.cursor()\n",
    "    \n",
    "    public_tweets = tweepy.Cursor(api.search, q=query).items(max_tweets)\n",
    "    \n",
    "    c.execute('CREATE TABLE IF NOT EXISTS '+query+' (dbtweetid int PRIMARY KEY, dbtweetdate text, dbtweettext text, polarity real)')\n",
    "    \n",
    "    for tweet in public_tweets:\n",
    "        if (tweet.lang == \"en\") and (not tweet.retweeted) and ('RT @' not in tweet.text):\n",
    "            tweetid = tweet.id\n",
    "            tweetdate = tweet.created_at\n",
    "            tweettext = tweet.text\n",
    "            polarity = analyzer.polarity_scores(tweettext)['compound']\n",
    "            c.execute(\"insert into \"+query+\" values (?,?,?,?)\", (tweetid, tweetdate, tweettext, polarity))\n",
    "            \n",
    "    conn.commit()\n",
    "    c.close()    \n"
   ]
  },
  {
   "cell_type": "code",
   "execution_count": 5,
   "metadata": {},
   "outputs": [],
   "source": [
    "def clearTable(tableName):\n",
    "    conn = sqlite3.connect('twitterprofiles.db')\n",
    "    c = conn.cursor()\n",
    "    c.execute(F\"DELETE FROM {tableName}\")\n",
    "    conn.commit()\n",
    "    c.close()\n",
    "    "
   ]
  },
  {
   "cell_type": "code",
   "execution_count": 6,
   "metadata": {},
   "outputs": [],
   "source": [
    "def dropTable(tableName):\n",
    "    conn = sqlite3.connect('twitterprofiles.db')\n",
    "    c = conn.cursor()\n",
    "    c.execute(F\"DROP TABLE IF EXISTS {tableName}\")\n",
    "    conn.commit()\n",
    "    c.close()"
   ]
  },
  {
   "cell_type": "code",
   "execution_count": 24,
   "metadata": {},
   "outputs": [
    {
     "data": {
      "text/plain": [
       "1541362202"
      ]
     },
     "execution_count": 24,
     "metadata": {},
     "output_type": "execute_result"
    }
   ],
   "source": [
    "api.rate_limit_status()['resources']['search']['/search/tweets']['reset']"
   ]
  },
  {
   "cell_type": "code",
   "execution_count": 31,
   "metadata": {},
   "outputs": [],
   "source": [
    "seconds = api.rate_limit_status()['resources']['search']['/search/tweets']['reset']-time.time()"
   ]
  },
  {
   "cell_type": "code",
   "execution_count": 41,
   "metadata": {},
   "outputs": [],
   "source": [
    "timeleft = str(int(seconds / 60)) + str(int(seconds %60))"
   ]
  },
  {
   "cell_type": "code",
   "execution_count": 42,
   "metadata": {},
   "outputs": [
    {
     "data": {
      "text/plain": [
       "'052'"
      ]
     },
     "execution_count": 42,
     "metadata": {},
     "output_type": "execute_result"
    }
   ],
   "source": [
    "timeleft"
   ]
  },
  {
   "cell_type": "code",
   "execution_count": 7,
   "metadata": {},
   "outputs": [
    {
     "ename": "NameError",
     "evalue": "name 'c' is not defined",
     "output_type": "error",
     "traceback": [
      "\u001b[1;31m---------------------------------------------------------------------------\u001b[0m",
      "\u001b[1;31mNameError\u001b[0m                                 Traceback (most recent call last)",
      "\u001b[1;32m<ipython-input-7-e677e7e031a0>\u001b[0m in \u001b[0;36m<module>\u001b[1;34m()\u001b[0m\n\u001b[1;32m----> 1\u001b[1;33m \u001b[0mc\u001b[0m\u001b[1;33m.\u001b[0m\u001b[0mclose\u001b[0m\u001b[1;33m(\u001b[0m\u001b[1;33m)\u001b[0m\u001b[1;33m\u001b[0m\u001b[0m\n\u001b[0m\u001b[0;32m      2\u001b[0m \u001b[0mclearTable\u001b[0m\u001b[1;33m(\u001b[0m\u001b[1;34m'schoolshooting'\u001b[0m\u001b[1;33m)\u001b[0m\u001b[1;33m\u001b[0m\u001b[0m\n\u001b[0;32m      3\u001b[0m \u001b[1;33m\u001b[0m\u001b[0m\n",
      "\u001b[1;31mNameError\u001b[0m: name 'c' is not defined"
     ]
    }
   ],
   "source": [
    "c.close()\n",
    "clearTable('schoolshooting')\n",
    "\n"
   ]
  },
  {
   "cell_type": "code",
   "execution_count": 22,
   "metadata": {},
   "outputs": [],
   "source": [
    "c.close()"
   ]
  },
  {
   "cell_type": "code",
   "execution_count": 33,
   "metadata": {},
   "outputs": [],
   "source": [
    "searchTerm('schoolshooting', 1000)"
   ]
  },
  {
   "cell_type": "code",
   "execution_count": 9,
   "metadata": {},
   "outputs": [],
   "source": [
    "conn = sqlite3.connect('twitterprofiles.db')\n",
    "c = conn.cursor()\n",
    "queryDF = pd.read_sql('Select * FROM schoolshooting;', conn)\n",
    "queryDF\n",
    "c.close()\n",
    "    "
   ]
  },
  {
   "cell_type": "code",
   "execution_count": 58,
   "metadata": {},
   "outputs": [],
   "source": [
    "def visualizeQuery(query):\n",
    "    if(api.rate_limit_status()['resources']['search']['/search/tweets']['remaining']>3):\n",
    "        dropTable(query)\n",
    "        searchTerm(query, 300)\n",
    "        conn = sqlite3.connect('twitterprofiles.db')\n",
    "        c = conn.cursor()\n",
    "        queryDF = pd.read_sql(f\"Select * FROM {query};\", conn)\n",
    "        queryDF['hour'] = queryDF['dbtweetdate'].apply(lambda x: datetime.datetime.strptime(x, '%Y-%m-%d %H:%M:%S').hour)\n",
    "        querygroup = queryDF.groupby('hour').mean()\n",
    "        querygroup.plot(y='polarity')\n",
    "        return (querygroup, queryDF)\n",
    "    else:\n",
    "        timeleft = str(int(seconds / 60)) + 'm, ' + str(int(seconds %60)) + 's left'\n",
    "        \n",
    "        print('Rate limit reached. ' + str(int(seconds %60)))"
   ]
  },
  {
   "cell_type": "code",
   "execution_count": 49,
   "metadata": {},
   "outputs": [],
   "source": []
  },
  {
   "cell_type": "code",
   "execution_count": 65,
   "metadata": {},
   "outputs": [],
   "source": [
    "tesla['minute'] = tesla['dbtweetdate'].apply(lambda x: datetime.datetime.strptime(x, '%Y-%m-%d %H:%M:%S').minute)"
   ]
  },
  {
   "cell_type": "code",
   "execution_count": 59,
   "metadata": {},
   "outputs": [
    {
     "data": {
      "image/png": "[encoded data removed]",
      "text/plain": [
       "<matplotlib.figure.Figure at 0x1dcdf155e48>"
      ]
     },
     "metadata": {
      "needs_background": "light"
     },
     "output_type": "display_data"
    }
   ],
   "source": [
    "teslagroup,tesla = visualizeQuery('tesla')"
   ]
  },
  {
   "cell_type": "code",
   "execution_count": 66,
   "metadata": {},
   "outputs": [
    {
     "data": {
      "text/plain": [
       "<matplotlib.axes._subplots.AxesSubplot at 0x1dcdede7358>"
      ]
     },
     "execution_count": 66,
     "metadata": {},
     "output_type": "execute_result"
    },
    {
     "data": {
      "image/png": "[encoded data removed]",
      "text/plain": [
       "<matplotlib.figure.Figure at 0x1dcdee2abe0>"
      ]
     },
     "metadata": {
      "needs_background": "light"
     },
     "output_type": "display_data"
    }
   ],
   "source": [
    "tesla.plot(x='minute', y='polarity', kind='scatter')"
   ]
  },
  {
   "cell_type": "code",
   "execution_count": 10,
   "metadata": {},
   "outputs": [],
   "source": [
    "queryDF['hour'] = queryDF['dbtweetdate'].apply(lambda x: datetime.datetime.strptime(x, '%Y-%m-%d %H:%M:%S').hour)"
   ]
  },
  {
   "cell_type": "code",
   "execution_count": 10,
   "metadata": {},
   "outputs": [
    {
     "data": {
      "text/html": [
       "<div>\n",
       "<style scoped>\n",
       "    .dataframe tbody tr th:only-of-type {\n",
       "        vertical-align: middle;\n",
       "    }\n",
       "\n",
       "    .dataframe tbody tr th {\n",
       "        vertical-align: top;\n",
       "    }\n",
       "\n",
       "    .dataframe thead th {\n",
       "        text-align: right;\n",
       "    }\n",
       "</style>\n",
       "<table border=\"1\" class=\"dataframe\">\n",
       "  <thead>\n",
       "    <tr style=\"text-align: right;\">\n",
       "      <th></th>\n",
       "      <th>dbtweetid</th>\n",
       "      <th>dbtweetdate</th>\n",
       "      <th>dbtweettext</th>\n",
       "      <th>polarity</th>\n",
       "    </tr>\n",
       "  </thead>\n",
       "  <tbody>\n",
       "    <tr>\n",
       "      <th>0</th>\n",
       "      <td>1059077080414064640</td>\n",
       "      <td>2018-11-04 13:37:07</td>\n",
       "      <td>@FoxNews @SecPompeo @FoxNewsSunday #WhatWorrie...</td>\n",
       "      <td>0.0000</td>\n",
       "    </tr>\n",
       "    <tr>\n",
       "      <th>1</th>\n",
       "      <td>1059076816684630017</td>\n",
       "      <td>2018-11-04 13:36:04</td>\n",
       "      <td>#WhatWorriesMe is that people were CAUGHT REDH...</td>\n",
       "      <td>0.0000</td>\n",
       "    </tr>\n",
       "    <tr>\n",
       "      <th>2</th>\n",
       "      <td>1058902133146185728</td>\n",
       "      <td>2018-11-04 02:01:56</td>\n",
       "      <td>*It's time to update security systems to detec...</td>\n",
       "      <td>-0.0258</td>\n",
       "    </tr>\n",
       "    <tr>\n",
       "      <th>3</th>\n",
       "      <td>1058899194692329473</td>\n",
       "      <td>2018-11-04 01:50:16</td>\n",
       "      <td>Condolence to Bobby's family and friends https...</td>\n",
       "      <td>0.4767</td>\n",
       "    </tr>\n",
       "    <tr>\n",
       "      <th>4</th>\n",
       "      <td>1058828722634022912</td>\n",
       "      <td>2018-11-03 21:10:14</td>\n",
       "      <td>Studying abroad in Japan is very cost effectiv...</td>\n",
       "      <td>0.5233</td>\n",
       "    </tr>\n",
       "    <tr>\n",
       "      <th>5</th>\n",
       "      <td>1058813590134640640</td>\n",
       "      <td>2018-11-03 20:10:06</td>\n",
       "      <td>Everyone high school students who hate guns an...</td>\n",
       "      <td>-0.8834</td>\n",
       "    </tr>\n",
       "    <tr>\n",
       "      <th>6</th>\n",
       "      <td>1058798027983544320</td>\n",
       "      <td>2018-11-03 19:08:16</td>\n",
       "      <td>We should research #mentalhealthtreamtment and...</td>\n",
       "      <td>0.0000</td>\n",
       "    </tr>\n",
       "    <tr>\n",
       "      <th>7</th>\n",
       "      <td>1058784817599397888</td>\n",
       "      <td>2018-11-03 18:15:46</td>\n",
       "      <td>Just some of the reasons why, on #November6th,...</td>\n",
       "      <td>0.0000</td>\n",
       "    </tr>\n",
       "    <tr>\n",
       "      <th>8</th>\n",
       "      <td>1058738357994508290</td>\n",
       "      <td>2018-11-03 15:11:09</td>\n",
       "      <td>So sad. Another school shooting. This one a lo...</td>\n",
       "      <td>-0.5256</td>\n",
       "    </tr>\n",
       "    <tr>\n",
       "      <th>9</th>\n",
       "      <td>1058683578094182400</td>\n",
       "      <td>2018-11-03 11:33:29</td>\n",
       "      <td>@FoxNews Still very afraid of a planned #Schoo...</td>\n",
       "      <td>0.0000</td>\n",
       "    </tr>\n",
       "    <tr>\n",
       "      <th>10</th>\n",
       "      <td>1058683489573314560</td>\n",
       "      <td>2018-11-03 11:33:07</td>\n",
       "      <td>@FoxNews Still very afraid of a planned #Schoo...</td>\n",
       "      <td>0.0000</td>\n",
       "    </tr>\n",
       "    <tr>\n",
       "      <th>11</th>\n",
       "      <td>1058675847165628416</td>\n",
       "      <td>2018-11-03 11:02:45</td>\n",
       "      <td>Madness! #SchoolShooting again! Yo I went to b...</td>\n",
       "      <td>-0.5399</td>\n",
       "    </tr>\n",
       "    <tr>\n",
       "      <th>12</th>\n",
       "      <td>1058648552795185152</td>\n",
       "      <td>2018-11-03 09:14:18</td>\n",
       "      <td>Another day and an another #SchoolShooting\\n\\n...</td>\n",
       "      <td>0.0000</td>\n",
       "    </tr>\n",
       "    <tr>\n",
       "      <th>13</th>\n",
       "      <td>1058596990336921600</td>\n",
       "      <td>2018-11-03 05:49:24</td>\n",
       "      <td>Yeah, except that whole #schoolshooting thing....</td>\n",
       "      <td>0.2960</td>\n",
       "    </tr>\n",
       "    <tr>\n",
       "      <th>14</th>\n",
       "      <td>1058586382707224576</td>\n",
       "      <td>2018-11-03 05:07:15</td>\n",
       "      <td>When is enough, enough? Today, thankfully, did...</td>\n",
       "      <td>0.0000</td>\n",
       "    </tr>\n",
       "    <tr>\n",
       "      <th>15</th>\n",
       "      <td>1058570958015885312</td>\n",
       "      <td>2018-11-03 04:05:58</td>\n",
       "      <td>Another #SchoolShooting ! #GunReformNow #GunCo...</td>\n",
       "      <td>0.0000</td>\n",
       "    </tr>\n",
       "    <tr>\n",
       "      <th>16</th>\n",
       "      <td>1058552148424683520</td>\n",
       "      <td>2018-11-03 02:51:13</td>\n",
       "      <td>Along w #GunControl,\\nanother thing we\\noughta...</td>\n",
       "      <td>0.1779</td>\n",
       "    </tr>\n",
       "    <tr>\n",
       "      <th>17</th>\n",
       "      <td>1058481421759770624</td>\n",
       "      <td>2018-11-02 22:10:11</td>\n",
       "      <td>.@StarkAuthor  on \"Going Viral &amp;amp; Bringing ...</td>\n",
       "      <td>0.0000</td>\n",
       "    </tr>\n",
       "    <tr>\n",
       "      <th>18</th>\n",
       "      <td>1058469482132205568</td>\n",
       "      <td>2018-11-02 21:22:44</td>\n",
       "      <td>Disgusting. Expel them for the year. High scho...</td>\n",
       "      <td>-0.8555</td>\n",
       "    </tr>\n",
       "    <tr>\n",
       "      <th>19</th>\n",
       "      <td>1058451653878263808</td>\n",
       "      <td>2018-11-02 20:11:54</td>\n",
       "      <td>Clear Pack backpacks are durable, security bag...</td>\n",
       "      <td>0.7579</td>\n",
       "    </tr>\n",
       "    <tr>\n",
       "      <th>20</th>\n",
       "      <td>1058450896798015489</td>\n",
       "      <td>2018-11-02 20:08:53</td>\n",
       "      <td>Sad news from Matthews, NC: Butler High Studen...</td>\n",
       "      <td>-0.4767</td>\n",
       "    </tr>\n",
       "    <tr>\n",
       "      <th>21</th>\n",
       "      <td>1058407643532931072</td>\n",
       "      <td>2018-11-02 17:17:01</td>\n",
       "      <td>Kentucky Man Wanted to Be 'The Next School Sho...</td>\n",
       "      <td>0.0000</td>\n",
       "    </tr>\n",
       "    <tr>\n",
       "      <th>22</th>\n",
       "      <td>1058383233036046337</td>\n",
       "      <td>2018-11-02 15:40:01</td>\n",
       "      <td>.@StarkAuthor's \"I Was Almost a School Shooter...</td>\n",
       "      <td>0.0000</td>\n",
       "    </tr>\n",
       "    <tr>\n",
       "      <th>23</th>\n",
       "      <td>1058376950107004928</td>\n",
       "      <td>2018-11-02 15:15:03</td>\n",
       "      <td>SpotCrime Weekly Reads: #Violence in children,...</td>\n",
       "      <td>-0.3182</td>\n",
       "    </tr>\n",
       "    <tr>\n",
       "      <th>24</th>\n",
       "      <td>1058274246927904768</td>\n",
       "      <td>2018-11-02 08:26:56</td>\n",
       "      <td>@DebiC37936 @FoxNews @JohnJamesMI Yes,thank he...</td>\n",
       "      <td>0.4019</td>\n",
       "    </tr>\n",
       "    <tr>\n",
       "      <th>25</th>\n",
       "      <td>1058241692619366400</td>\n",
       "      <td>2018-11-02 06:17:35</td>\n",
       "      <td>‘We’re pro-Second Amendment, but we’re anti-vi...</td>\n",
       "      <td>-0.4497</td>\n",
       "    </tr>\n",
       "    <tr>\n",
       "      <th>26</th>\n",
       "      <td>1058212836076412933</td>\n",
       "      <td>2018-11-02 04:22:55</td>\n",
       "      <td>School Shootings: This mom asks, are you ready...</td>\n",
       "      <td>0.4199</td>\n",
       "    </tr>\n",
       "    <tr>\n",
       "      <th>27</th>\n",
       "      <td>1058195585948364800</td>\n",
       "      <td>2018-11-02 03:14:22</td>\n",
       "      <td>Day 2 at Biological Class SMAN 9 Padang\\nLearn...</td>\n",
       "      <td>0.0000</td>\n",
       "    </tr>\n",
       "    <tr>\n",
       "      <th>28</th>\n",
       "      <td>1058116449959583744</td>\n",
       "      <td>2018-11-01 21:59:55</td>\n",
       "      <td>I👌 wanted😔 to👏 suicide😢 but🙌 then😉 I🙏 went🤓 sc...</td>\n",
       "      <td>0.0000</td>\n",
       "    </tr>\n",
       "    <tr>\n",
       "      <th>29</th>\n",
       "      <td>1058085529022021634</td>\n",
       "      <td>2018-11-01 19:57:03</td>\n",
       "      <td>#SchoolShooting #Survivors Bear Their #Scars, ...</td>\n",
       "      <td>0.0000</td>\n",
       "    </tr>\n",
       "    <tr>\n",
       "      <th>...</th>\n",
       "      <td>...</td>\n",
       "      <td>...</td>\n",
       "      <td>...</td>\n",
       "      <td>...</td>\n",
       "    </tr>\n",
       "    <tr>\n",
       "      <th>291</th>\n",
       "      <td>1056887933150597125</td>\n",
       "      <td>2018-10-29 12:38:13</td>\n",
       "      <td>#SchoolShooting\\n#ProtectOurChildren\\n\\n North...</td>\n",
       "      <td>0.0000</td>\n",
       "    </tr>\n",
       "    <tr>\n",
       "      <th>292</th>\n",
       "      <td>1056887848144535552</td>\n",
       "      <td>2018-10-29 12:37:53</td>\n",
       "      <td>Another school shooting in Butler High School ...</td>\n",
       "      <td>0.0000</td>\n",
       "    </tr>\n",
       "    <tr>\n",
       "      <th>293</th>\n",
       "      <td>1056884945258463232</td>\n",
       "      <td>2018-10-29 12:26:21</td>\n",
       "      <td>BREAKING - Police in North Carolina say a high...</td>\n",
       "      <td>0.0000</td>\n",
       "    </tr>\n",
       "    <tr>\n",
       "      <th>294</th>\n",
       "      <td>1056884696024530944</td>\n",
       "      <td>2018-10-29 12:25:22</td>\n",
       "      <td>My thoughts and prayers go out to all involved...</td>\n",
       "      <td>0.3612</td>\n",
       "    </tr>\n",
       "    <tr>\n",
       "      <th>295</th>\n",
       "      <td>1056884365635055616</td>\n",
       "      <td>2018-10-29 12:24:03</td>\n",
       "      <td>Yet another #SchoolShooting and @WhiteHouse al...</td>\n",
       "      <td>0.4939</td>\n",
       "    </tr>\n",
       "    <tr>\n",
       "      <th>296</th>\n",
       "      <td>1056883625524899840</td>\n",
       "      <td>2018-10-29 12:21:06</td>\n",
       "      <td>#BREAKING - We've learned both the person shot...</td>\n",
       "      <td>0.0000</td>\n",
       "    </tr>\n",
       "    <tr>\n",
       "      <th>297</th>\n",
       "      <td>1056879870897197057</td>\n",
       "      <td>2018-10-29 12:06:11</td>\n",
       "      <td>Not the way any parent wants to start a Monday...</td>\n",
       "      <td>0.0000</td>\n",
       "    </tr>\n",
       "    <tr>\n",
       "      <th>298</th>\n",
       "      <td>1056878601205882880</td>\n",
       "      <td>2018-10-29 12:01:09</td>\n",
       "      <td>1 person #shot at #ButlerHighSchool #Charlotte...</td>\n",
       "      <td>0.0000</td>\n",
       "    </tr>\n",
       "    <tr>\n",
       "      <th>299</th>\n",
       "      <td>1056825554450624512</td>\n",
       "      <td>2018-10-29 08:30:21</td>\n",
       "      <td>Documenting 72 years of #SchoolShooting victim...</td>\n",
       "      <td>-0.3182</td>\n",
       "    </tr>\n",
       "    <tr>\n",
       "      <th>300</th>\n",
       "      <td>1056818682742165505</td>\n",
       "      <td>2018-10-29 08:03:03</td>\n",
       "      <td>Don’t forget the survivors #Neverforget #Schoo...</td>\n",
       "      <td>-0.2263</td>\n",
       "    </tr>\n",
       "    <tr>\n",
       "      <th>301</th>\n",
       "      <td>1056720986886864896</td>\n",
       "      <td>2018-10-29 01:34:50</td>\n",
       "      <td>The Class of 1946–2018 Twenty-seven #schoolsho...</td>\n",
       "      <td>0.0000</td>\n",
       "    </tr>\n",
       "    <tr>\n",
       "      <th>302</th>\n",
       "      <td>1056677524208521216</td>\n",
       "      <td>2018-10-28 22:42:08</td>\n",
       "      <td>I found it. I found the fucking post I thought...</td>\n",
       "      <td>0.0000</td>\n",
       "    </tr>\n",
       "    <tr>\n",
       "      <th>303</th>\n",
       "      <td>1056624186884448257</td>\n",
       "      <td>2018-10-28 19:10:11</td>\n",
       "      <td>Studying abroad in Japan is very cost effectiv...</td>\n",
       "      <td>0.5233</td>\n",
       "    </tr>\n",
       "    <tr>\n",
       "      <th>304</th>\n",
       "      <td>1056615122699993095</td>\n",
       "      <td>2018-10-28 18:34:10</td>\n",
       "      <td>\"Since Sayoc was arrested in Broward County, F...</td>\n",
       "      <td>-0.4767</td>\n",
       "    </tr>\n",
       "    <tr>\n",
       "      <th>305</th>\n",
       "      <td>1056609102627926018</td>\n",
       "      <td>2018-10-28 18:10:15</td>\n",
       "      <td>Everyone high school students who hate guns an...</td>\n",
       "      <td>-0.8834</td>\n",
       "    </tr>\n",
       "    <tr>\n",
       "      <th>306</th>\n",
       "      <td>1056562962792476672</td>\n",
       "      <td>2018-10-28 15:06:54</td>\n",
       "      <td>Not to mention the myriad of #SchoolShooting~ ...</td>\n",
       "      <td>0.0000</td>\n",
       "    </tr>\n",
       "    <tr>\n",
       "      <th>307</th>\n",
       "      <td>1056545528782163968</td>\n",
       "      <td>2018-10-28 13:57:38</td>\n",
       "      <td>Israeli Army Injures Many #palestine Schoolchi...</td>\n",
       "      <td>0.0000</td>\n",
       "    </tr>\n",
       "    <tr>\n",
       "      <th>308</th>\n",
       "      <td>1056322062229204993</td>\n",
       "      <td>2018-10-27 23:09:39</td>\n",
       "      <td>@CNN Everyone high school students who hate gu...</td>\n",
       "      <td>-0.8834</td>\n",
       "    </tr>\n",
       "    <tr>\n",
       "      <th>309</th>\n",
       "      <td>1056321566668087297</td>\n",
       "      <td>2018-10-27 23:07:41</td>\n",
       "      <td>@senatemajldr Everyone high school students wh...</td>\n",
       "      <td>-0.8225</td>\n",
       "    </tr>\n",
       "    <tr>\n",
       "      <th>310</th>\n",
       "      <td>1056313251192098816</td>\n",
       "      <td>2018-10-27 22:34:39</td>\n",
       "      <td>Opening Tonight, Oct 27, 6–9pm: Mitchel Gaudet...</td>\n",
       "      <td>0.0000</td>\n",
       "    </tr>\n",
       "    <tr>\n",
       "      <th>311</th>\n",
       "      <td>1056247057499869184</td>\n",
       "      <td>2018-10-27 18:11:37</td>\n",
       "      <td>#WSSA the key to solving the #SchoolShooting p...</td>\n",
       "      <td>-0.0772</td>\n",
       "    </tr>\n",
       "    <tr>\n",
       "      <th>312</th>\n",
       "      <td>1056214697014378497</td>\n",
       "      <td>2018-10-27 16:03:01</td>\n",
       "      <td>Where are all those Police that shoot unarmed ...</td>\n",
       "      <td>-0.6808</td>\n",
       "    </tr>\n",
       "    <tr>\n",
       "      <th>313</th>\n",
       "      <td>1056012332881440768</td>\n",
       "      <td>2018-10-27 02:38:54</td>\n",
       "      <td>\"Had Kentucky police officers waited one more ...</td>\n",
       "      <td>0.0000</td>\n",
       "    </tr>\n",
       "    <tr>\n",
       "      <th>314</th>\n",
       "      <td>1055960828774637569</td>\n",
       "      <td>2018-10-26 23:14:15</td>\n",
       "      <td>@IIovebird You know, I would post a shitpost s...</td>\n",
       "      <td>0.0000</td>\n",
       "    </tr>\n",
       "    <tr>\n",
       "      <th>315</th>\n",
       "      <td>1055833566477721600</td>\n",
       "      <td>2018-10-26 14:48:33</td>\n",
       "      <td>This Song--&amp;gt; These Lyrics &amp;lt;-- For Anyone...</td>\n",
       "      <td>0.0000</td>\n",
       "    </tr>\n",
       "    <tr>\n",
       "      <th>316</th>\n",
       "      <td>1055819193441026048</td>\n",
       "      <td>2018-10-26 13:51:26</td>\n",
       "      <td>@NSithis this is on the level of \"This kid in ...</td>\n",
       "      <td>-0.4939</td>\n",
       "    </tr>\n",
       "    <tr>\n",
       "      <th>317</th>\n",
       "      <td>1055582276065607680</td>\n",
       "      <td>2018-10-25 22:10:01</td>\n",
       "      <td>.@StarkAuthor  on \"Going Viral &amp;amp; Bringing ...</td>\n",
       "      <td>0.0000</td>\n",
       "    </tr>\n",
       "    <tr>\n",
       "      <th>318</th>\n",
       "      <td>1055581391990202373</td>\n",
       "      <td>2018-10-25 22:06:30</td>\n",
       "      <td>Two girl middle schools students planned to ki...</td>\n",
       "      <td>-0.8858</td>\n",
       "    </tr>\n",
       "    <tr>\n",
       "      <th>319</th>\n",
       "      <td>1055540031459340289</td>\n",
       "      <td>2018-10-25 19:22:09</td>\n",
       "      <td>Finally, almost all of the hospitalized victim...</td>\n",
       "      <td>-0.1655</td>\n",
       "    </tr>\n",
       "    <tr>\n",
       "      <th>320</th>\n",
       "      <td>1055538780034228224</td>\n",
       "      <td>2018-10-25 19:17:10</td>\n",
       "      <td>E que tal um schoolshooting? https://t.co/EBJa...</td>\n",
       "      <td>0.0000</td>\n",
       "    </tr>\n",
       "  </tbody>\n",
       "</table>\n",
       "<p>321 rows × 4 columns</p>\n",
       "</div>"
      ],
      "text/plain": [
       "               dbtweetid          dbtweetdate  \\\n",
       "0    1059077080414064640  2018-11-04 13:37:07   \n",
       "1    1059076816684630017  2018-11-04 13:36:04   \n",
       "2    1058902133146185728  2018-11-04 02:01:56   \n",
       "3    1058899194692329473  2018-11-04 01:50:16   \n",
       "4    1058828722634022912  2018-11-03 21:10:14   \n",
       "5    1058813590134640640  2018-11-03 20:10:06   \n",
       "6    1058798027983544320  2018-11-03 19:08:16   \n",
       "7    1058784817599397888  2018-11-03 18:15:46   \n",
       "8    1058738357994508290  2018-11-03 15:11:09   \n",
       "9    1058683578094182400  2018-11-03 11:33:29   \n",
       "10   1058683489573314560  2018-11-03 11:33:07   \n",
       "11   1058675847165628416  2018-11-03 11:02:45   \n",
       "12   1058648552795185152  2018-11-03 09:14:18   \n",
       "13   1058596990336921600  2018-11-03 05:49:24   \n",
       "14   1058586382707224576  2018-11-03 05:07:15   \n",
       "15   1058570958015885312  2018-11-03 04:05:58   \n",
       "16   1058552148424683520  2018-11-03 02:51:13   \n",
       "17   1058481421759770624  2018-11-02 22:10:11   \n",
       "18   1058469482132205568  2018-11-02 21:22:44   \n",
       "19   1058451653878263808  2018-11-02 20:11:54   \n",
       "20   1058450896798015489  2018-11-02 20:08:53   \n",
       "21   1058407643532931072  2018-11-02 17:17:01   \n",
       "22   1058383233036046337  2018-11-02 15:40:01   \n",
       "23   1058376950107004928  2018-11-02 15:15:03   \n",
       "24   1058274246927904768  2018-11-02 08:26:56   \n",
       "25   1058241692619366400  2018-11-02 06:17:35   \n",
       "26   1058212836076412933  2018-11-02 04:22:55   \n",
       "27   1058195585948364800  2018-11-02 03:14:22   \n",
       "28   1058116449959583744  2018-11-01 21:59:55   \n",
       "29   1058085529022021634  2018-11-01 19:57:03   \n",
       "..                   ...                  ...   \n",
       "291  1056887933150597125  2018-10-29 12:38:13   \n",
       "292  1056887848144535552  2018-10-29 12:37:53   \n",
       "293  1056884945258463232  2018-10-29 12:26:21   \n",
       "294  1056884696024530944  2018-10-29 12:25:22   \n",
       "295  1056884365635055616  2018-10-29 12:24:03   \n",
       "296  1056883625524899840  2018-10-29 12:21:06   \n",
       "297  1056879870897197057  2018-10-29 12:06:11   \n",
       "298  1056878601205882880  2018-10-29 12:01:09   \n",
       "299  1056825554450624512  2018-10-29 08:30:21   \n",
       "300  1056818682742165505  2018-10-29 08:03:03   \n",
       "301  1056720986886864896  2018-10-29 01:34:50   \n",
       "302  1056677524208521216  2018-10-28 22:42:08   \n",
       "303  1056624186884448257  2018-10-28 19:10:11   \n",
       "304  1056615122699993095  2018-10-28 18:34:10   \n",
       "305  1056609102627926018  2018-10-28 18:10:15   \n",
       "306  1056562962792476672  2018-10-28 15:06:54   \n",
       "307  1056545528782163968  2018-10-28 13:57:38   \n",
       "308  1056322062229204993  2018-10-27 23:09:39   \n",
       "309  1056321566668087297  2018-10-27 23:07:41   \n",
       "310  1056313251192098816  2018-10-27 22:34:39   \n",
       "311  1056247057499869184  2018-10-27 18:11:37   \n",
       "312  1056214697014378497  2018-10-27 16:03:01   \n",
       "313  1056012332881440768  2018-10-27 02:38:54   \n",
       "314  1055960828774637569  2018-10-26 23:14:15   \n",
       "315  1055833566477721600  2018-10-26 14:48:33   \n",
       "316  1055819193441026048  2018-10-26 13:51:26   \n",
       "317  1055582276065607680  2018-10-25 22:10:01   \n",
       "318  1055581391990202373  2018-10-25 22:06:30   \n",
       "319  1055540031459340289  2018-10-25 19:22:09   \n",
       "320  1055538780034228224  2018-10-25 19:17:10   \n",
       "\n",
       "                                           dbtweettext  polarity  \n",
       "0    @FoxNews @SecPompeo @FoxNewsSunday #WhatWorrie...    0.0000  \n",
       "1    #WhatWorriesMe is that people were CAUGHT REDH...    0.0000  \n",
       "2    *It's time to update security systems to detec...   -0.0258  \n",
       "3    Condolence to Bobby's family and friends https...    0.4767  \n",
       "4    Studying abroad in Japan is very cost effectiv...    0.5233  \n",
       "5    Everyone high school students who hate guns an...   -0.8834  \n",
       "6    We should research #mentalhealthtreamtment and...    0.0000  \n",
       "7    Just some of the reasons why, on #November6th,...    0.0000  \n",
       "8    So sad. Another school shooting. This one a lo...   -0.5256  \n",
       "9    @FoxNews Still very afraid of a planned #Schoo...    0.0000  \n",
       "10   @FoxNews Still very afraid of a planned #Schoo...    0.0000  \n",
       "11   Madness! #SchoolShooting again! Yo I went to b...   -0.5399  \n",
       "12   Another day and an another #SchoolShooting\\n\\n...    0.0000  \n",
       "13   Yeah, except that whole #schoolshooting thing....    0.2960  \n",
       "14   When is enough, enough? Today, thankfully, did...    0.0000  \n",
       "15   Another #SchoolShooting ! #GunReformNow #GunCo...    0.0000  \n",
       "16   Along w #GunControl,\\nanother thing we\\noughta...    0.1779  \n",
       "17   .@StarkAuthor  on \"Going Viral &amp; Bringing ...    0.0000  \n",
       "18   Disgusting. Expel them for the year. High scho...   -0.8555  \n",
       "19   Clear Pack backpacks are durable, security bag...    0.7579  \n",
       "20   Sad news from Matthews, NC: Butler High Studen...   -0.4767  \n",
       "21   Kentucky Man Wanted to Be 'The Next School Sho...    0.0000  \n",
       "22   .@StarkAuthor's \"I Was Almost a School Shooter...    0.0000  \n",
       "23   SpotCrime Weekly Reads: #Violence in children,...   -0.3182  \n",
       "24   @DebiC37936 @FoxNews @JohnJamesMI Yes,thank he...    0.4019  \n",
       "25   ‘We’re pro-Second Amendment, but we’re anti-vi...   -0.4497  \n",
       "26   School Shootings: This mom asks, are you ready...    0.4199  \n",
       "27   Day 2 at Biological Class SMAN 9 Padang\\nLearn...    0.0000  \n",
       "28   I👌 wanted😔 to👏 suicide😢 but🙌 then😉 I🙏 went🤓 sc...    0.0000  \n",
       "29   #SchoolShooting #Survivors Bear Their #Scars, ...    0.0000  \n",
       "..                                                 ...       ...  \n",
       "291  #SchoolShooting\\n#ProtectOurChildren\\n\\n North...    0.0000  \n",
       "292  Another school shooting in Butler High School ...    0.0000  \n",
       "293  BREAKING - Police in North Carolina say a high...    0.0000  \n",
       "294  My thoughts and prayers go out to all involved...    0.3612  \n",
       "295  Yet another #SchoolShooting and @WhiteHouse al...    0.4939  \n",
       "296  #BREAKING - We've learned both the person shot...    0.0000  \n",
       "297  Not the way any parent wants to start a Monday...    0.0000  \n",
       "298  1 person #shot at #ButlerHighSchool #Charlotte...    0.0000  \n",
       "299  Documenting 72 years of #SchoolShooting victim...   -0.3182  \n",
       "300  Don’t forget the survivors #Neverforget #Schoo...   -0.2263  \n",
       "301  The Class of 1946–2018 Twenty-seven #schoolsho...    0.0000  \n",
       "302  I found it. I found the fucking post I thought...    0.0000  \n",
       "303  Studying abroad in Japan is very cost effectiv...    0.5233  \n",
       "304  \"Since Sayoc was arrested in Broward County, F...   -0.4767  \n",
       "305  Everyone high school students who hate guns an...   -0.8834  \n",
       "306  Not to mention the myriad of #SchoolShooting~ ...    0.0000  \n",
       "307  Israeli Army Injures Many #palestine Schoolchi...    0.0000  \n",
       "308  @CNN Everyone high school students who hate gu...   -0.8834  \n",
       "309  @senatemajldr Everyone high school students wh...   -0.8225  \n",
       "310  Opening Tonight, Oct 27, 6–9pm: Mitchel Gaudet...    0.0000  \n",
       "311  #WSSA the key to solving the #SchoolShooting p...   -0.0772  \n",
       "312  Where are all those Police that shoot unarmed ...   -0.6808  \n",
       "313  \"Had Kentucky police officers waited one more ...    0.0000  \n",
       "314  @IIovebird You know, I would post a shitpost s...    0.0000  \n",
       "315  This Song--&gt; These Lyrics &lt;-- For Anyone...    0.0000  \n",
       "316  @NSithis this is on the level of \"This kid in ...   -0.4939  \n",
       "317  .@StarkAuthor  on \"Going Viral &amp; Bringing ...    0.0000  \n",
       "318  Two girl middle schools students planned to ki...   -0.8858  \n",
       "319  Finally, almost all of the hospitalized victim...   -0.1655  \n",
       "320  E que tal um schoolshooting? https://t.co/EBJa...    0.0000  \n",
       "\n",
       "[321 rows x 4 columns]"
      ]
     },
     "execution_count": 10,
     "metadata": {},
     "output_type": "execute_result"
    }
   ],
   "source": [
    "queryDF"
   ]
  },
  {
   "cell_type": "code",
   "execution_count": 12,
   "metadata": {},
   "outputs": [],
   "source": [
    "querygroup = queryDF.groupby('hour').mean()"
   ]
  },
  {
   "cell_type": "code",
   "execution_count": 13,
   "metadata": {},
   "outputs": [
    {
     "data": {
      "text/plain": [
       "<matplotlib.axes._subplots.AxesSubplot at 0x24838406cf8>"
      ]
     },
     "execution_count": 13,
     "metadata": {},
     "output_type": "execute_result"
    },
    {
     "data": {
      "image/png": "[encoded data removed]",
      "text/plain": [
       "<matplotlib.figure.Figure at 0x24838406a58>"
      ]
     },
     "metadata": {
      "needs_background": "light"
     },
     "output_type": "display_data"
    }
   ],
   "source": [
    "querygroup.plot()"
   ]
  },
  {
   "cell_type": "code",
   "execution_count": 14,
   "metadata": {},
   "outputs": [
    {
     "data": {
      "text/plain": [
       "<matplotlib.axes._subplots.AxesSubplot at 0x248388d79e8>"
      ]
     },
     "execution_count": 14,
     "metadata": {},
     "output_type": "execute_result"
    },
    {
     "data": {
      "image/png": "[encoded data removed]",
      "text/plain": [
       "<matplotlib.figure.Figure at 0x24838849fd0>"
      ]
     },
     "metadata": {
      "needs_background": "light"
     },
     "output_type": "display_data"
    }
   ],
   "source": [
    "querygroup.plot(y='polarity')"
   ]
  },
  {
   "cell_type": "code",
   "execution_count": 17,
   "metadata": {},
   "outputs": [
    {
     "data": {
      "text/plain": [
       "<matplotlib.axes._subplots.AxesSubplot at 0x24838be09b0>"
      ]
     },
     "execution_count": 17,
     "metadata": {},
     "output_type": "execute_result"
    },
    {
     "data": {
      "image/png": "[encoded data removed]",
      "text/plain": [
       "<matplotlib.figure.Figure at 0x24838bc47f0>"
      ]
     },
     "metadata": {
      "needs_background": "light"
     },
     "output_type": "display_data"
    }
   ],
   "source": [
    "sns.lineplot(x=querygroup.index, y=querygroup['polarity'])"
   ]
  },
  {
   "cell_type": "code",
   "execution_count": null,
   "metadata": {},
   "outputs": [],
   "source": []
  },
  {
   "cell_type": "code",
   "execution_count": 21,
   "metadata": {},
   "outputs": [],
   "source": [
    "def visualizeLocTrends(location):\n",
    "    Trends =api.trends_place(location)\n",
    "    Trendsdf = pd.DataFrame(Trends[0]['trends']).sort_values('tweet_volume', ascending=False).head(10)\n",
    "    # Incomplete"
   ]
  },
  {
   "cell_type": "code",
   "execution_count": 22,
   "metadata": {},
   "outputs": [],
   "source": [
    "def topicSentVisualization(topic):\n",
    "    results =  api.search(topic,rpp=100, lang='en', show_user=True)\n",
    "    df = pd.DataFrame(results)\n",
    "    # Incomplete"
   ]
  },
  {
   "cell_type": "markdown",
   "metadata": {},
   "source": [
    "# Sentiment Analysis"
   ]
  },
  {
   "cell_type": "code",
   "execution_count": null,
   "metadata": {},
   "outputs": [],
   "source": []
  },
  {
   "cell_type": "code",
   "execution_count": 2,
   "metadata": {},
   "outputs": [],
   "source": [
    "\n",
    "from vaderSentiment.vaderSentiment import SentimentIntensityAnalyzer\n",
    "\n",
    "analyzer = SentimentIntensityAnalyzer()"
   ]
  },
  {
   "cell_type": "code",
   "execution_count": null,
   "metadata": {},
   "outputs": [],
   "source": []
  },
  {
   "cell_type": "code",
   "execution_count": null,
   "metadata": {},
   "outputs": [],
   "source": []
  }
 ],
 "metadata": {
  "kernelspec": {
   "display_name": "Python 3",
   "language": "python",
   "name": "python3"
  },
  "language_info": {
   "codemirror_mode": {
    "name": "ipython",
    "version": 3
   },
   "file_extension": ".py",
   "mimetype": "text/x-python",
   "name": "python",
   "nbconvert_exporter": "python",
   "pygments_lexer": "ipython3",
   "version": "3.6.4"
  }
 },
 "nbformat": 4,
 "nbformat_minor": 2
}

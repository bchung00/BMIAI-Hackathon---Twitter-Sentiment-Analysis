{
 "cells": [
  {
   "cell_type": "code",
   "execution_count": 14,
   "metadata": {},
   "outputs": [],
   "source": [
    "import requests\n",
    "import json\n",
    "import pandas as pd\n",
    "import datetime\n",
    "import math\n",
    "import seaborn as sns\n",
    "import tweepy\n",
    "import tkinter\n",
    "from time import sleep\n",
    "import matplotlib.pyplot as plt\n",
    "%matplotlib inline"
   ]
  },
  {
   "cell_type": "markdown",
   "metadata": {},
   "source": [
    "# Pulling Data from Twitter\n"
   ]
  },
  {
   "cell_type": "code",
   "execution_count": 22,
   "metadata": {},
   "outputs": [],
   "source": [
    "\n",
    "\n",
    "consumer_key = open(\"consumer key.txt\",\"r\").read()\n",
    "consumer_secret = open(\"consumer secret key.txt\",\"r\").read()\n",
    "access_token = open(\"access token.txt\",\"r\").read()\n",
    "access_token_secret = open(\"access token secret.txt\",\"r\").read()\n",
    "auth = tweepy.OAuthHandler(consumer_key, consumer_secret)\n",
    "auth.set_access_token(access_token, access_token_secret)\n",
    "api = tweepy.API(auth, wait_on_rate_limit=True)"
   ]
  },
  {
   "cell_type": "code",
   "execution_count": 34,
   "metadata": {},
   "outputs": [],
   "source": [
    "import tweepy\n",
    "import time\n",
    "from datetime import datetime\n",
    "import sqlite3\n",
    "\n",
    "\n",
    "def searchTerm(query, max_tweets):\n",
    "    conn = sqlite3.connect('twitterprofiles.db')\n",
    "    c = conn.cursor()\n",
    "    \n",
    "    public_tweets = tweepy.Cursor(api.search, q=query).items(max_tweets)\n",
    "    \n",
    "    c.execute('CREATE TABLE IF NOT EXISTS '+query+' (dbtweetid int PRIMARY KEY, dbtweetdate text, dbtweettext text, polarity real)')\n",
    "    n=1\n",
    "    for tweet in public_tweets:\n",
    "        tweetid = tweet.id\n",
    "        tweetdate = tweet.created_at\n",
    "        tweettext = tweet.text\n",
    "        polarity = analyzer.polarity_scores(tweettext)['compound']\n",
    "        c.execute(\"insert into \"+query+\" values (?,?,?,?)\", (tweetid, tweetdate, tweettext, polarity))\n",
    "        n+=1\n",
    "    conn.commit()\n",
    "    c.close()    \n"
   ]
  },
  {
   "cell_type": "code",
   "execution_count": 30,
   "metadata": {},
   "outputs": [],
   "source": [
    "def clearTable(tableName):\n",
    "    \n",
    "    conn = sqlite3.connect('twitterprofiles.db')\n",
    "    c = conn.cursor()\n",
    "    c.execute(F\"DELETE FROM {tableName}\")\n",
    "    conn.commit()\n",
    "    c.close()\n",
    "    \n"
   ]
  },
  {
   "cell_type": "code",
   "execution_count": 35,
   "metadata": {},
   "outputs": [],
   "source": [
    "searchTerm('Trump', 10)\n"
   ]
  },
  {
   "cell_type": "code",
   "execution_count": 36,
   "metadata": {},
   "outputs": [
    {
     "name": "stdout",
     "output_type": "stream",
     "text": [
      "(1058860790927839233, '2018-11-03 23:17:39', 'Donald John Trump... or is it Add Morph Jolt Nun?', 1.0)\n",
      "(1058860790885822464, '2018-11-03 23:17:39', 'RT @SssParody: This man works for free???? It’s trump trumpiteee himself! Funniest delusions yet 😂😂😂 https://t.co/lpvMPTjaQI', 1.0)\n",
      "(1058860790843875328, '2018-11-03 23:17:39', 'RT @DameDeniseMina: Trump’s going to kill those people in the caravan.\\nHe’s being very clear.\\nHe’s thinks it’ll win him votes.\\n\\nThe Interna…', 1.0)\n",
      "(1058860790831374338, '2018-11-03 23:17:39', 'RT @marklutchman: A young black conservative attendee at the #BLEXIT event was fired from her job for going to the White House to see Trump…', 1.0)\n",
      "(1058860790793625605, '2018-11-03 23:17:39', 'RT @RealMAGASteve: If Obama wants to keep score about jobs here’s the truth:\\n\\nIn 8-yrs Obama had a net loss of 192,000 manufacturing jobs &amp;…', 1.0)\n",
      "(1058860790600482816, '2018-11-03 23:17:39', \"RT @ezraklein: When Obama gave a careful speech about manufacturing policy, it didn't get live coverage. If Trump promises he's going make…\", 1.0)\n",
      "(1058860790541885441, '2018-11-03 23:17:39', '@MichaelAvenatti @JKBSwenson @nycmarathon Everyday ... for past 3 years ... I felt like punching Trump when he open… https://t.co/4pEfm7A4xJ', 1.0)\n",
      "(1058860790453858304, '2018-11-03 23:17:39', 'RT @NevadaJack2: Joe Scarborough suggested President Trump’s immigration strategy is to have Marines shoot at “9-year-old girls” approachin…', 1.0)\n",
      "(1058860790067933185, '2018-11-03 23:17:39', 'RT @PinkBelgium: 🚨 This Explains The \"RAGE\" of Desperate Democrats! 👍👍 #MAGA #KAG #Midterms2018 #VoteRepublican - HERE IT IS: Complete List…', 1.0)\n",
      "(1058860789887492096, '2018-11-03 23:17:39', 'RT @davidaxelrod: .@Schwarzenegger on why he spurned @realDonaldTrump in ‘16: “Trump asked me to support him in the campaign.  And I said t…', 1.0)\n",
      "(1058862838536593408, '2018-11-03 23:25:48', 'SHE FINESSED 150K OUT OF TRUMP SUPPORTERS I’M CRYING https://t.co/thdhrEq5LH', -0.0516)\n",
      "(1058862838478004225, '2018-11-03 23:25:48', 'RT @ArmyBratt68: Ready to get fired up ? 💥☄️🔥🔥President Trump’s Rally is in Pensacola!!!🇺🇸🇺🇸❤️❤️❤️❤️❤️#VoteRed', -0.4545)\n",
      "(1058862838301814785, '2018-11-03 23:25:48', 'RT @ProudResister: 3 ways @realDonaldTrump is inciting violence &amp; right-wing extremism:\\n\\n— Calling Press “enemy of the people”\\n\\n— Calling N…', -0.6249)\n",
      "(1058862838008053761, '2018-11-03 23:25:47', \"Our forefathers wrote protections for us against government Tyranny. They can't use the military to police U.S. dom… https://t.co/pz7FOa78Hc\", 0.0)\n",
      "(1058862837760778240, '2018-11-03 23:25:47', 'RT @charliekirk11: AL\\nAR\\nCA\\nFL\\nGA\\nID\\nIA\\nMN\\nMS\\nMO\\nMT\\nNV\\nNH\\nNY\\nOH\\nOR\\nPA\\nRI\\nSC\\nTX\\nVA\\nWI\\n\\n^All states with record low statewide unemployment or…', 0.4881)\n",
      "(1058862837513228289, '2018-11-03 23:25:47', \"RT @Mediaite: Former Skinhead to CNN's S.E. Cupp: Trump's Claim He Was a Nationalist Was a 'Bullhorn' to White Supremacists https://t.co/4O…\", -0.25)\n",
      "(1058862836955340800, '2018-11-03 23:25:47', 'RT @mcspocky: #NationalSandwichDay\\nEwe... I can already tell how gross this sandwich is.\\nThe despicable tRump sandwich. https://t.co/QAsch3…', -0.4767)\n",
      "(1058862836951089152, '2018-11-03 23:25:47', 'RT @Jillibean557: Independent voters pride themselves on results, and Trump delivers nothing but.', 0.1779)\n",
      "(1058862836846338048, '2018-11-03 23:25:47', '@thedailybeast @maxwelltani I will stop watching @CNN  from now on and switch to @MSNBC who also did the right thin… https://t.co/CXa7aro1bA', -0.296)\n",
      "(1058862836762505216, '2018-11-03 23:25:47', 'RT @charliekirk11: AL\\nAR\\nCA\\nFL\\nGA\\nID\\nIA\\nMN\\nMS\\nMO\\nMT\\nNV\\nNH\\nNY\\nOH\\nOR\\nPA\\nRI\\nSC\\nTX\\nVA\\nWI\\n\\n^All states with record low statewide unemployment or…', 0.4881)\n"
     ]
    }
   ],
   "source": [
    "for row in c.execute('SELECT * FROM Trump'):\n",
    "        print( row)"
   ]
  },
  {
   "cell_type": "code",
   "execution_count": 216,
   "metadata": {},
   "outputs": [],
   "source": [
    "def visualizeLocTrends(location):\n",
    "    Trends =api.trends_place(location)\n",
    "    Trendsdf = pd.DataFrame(Trends[0]['trends']).sort_values('tweet_volume', ascending=False).head(10)\n",
    "    # Incomplete"
   ]
  },
  {
   "cell_type": "code",
   "execution_count": 217,
   "metadata": {},
   "outputs": [],
   "source": [
    "def topicSentVisualization(topic):\n",
    "    results =  api.search(topic,rpp=100, lang='en', show_user=True)\n",
    "    df = pd.DataFrame(results)\n",
    "    # Incomplete"
   ]
  },
  {
   "cell_type": "markdown",
   "metadata": {},
   "source": [
    "# Sentiment Analysis"
   ]
  },
  {
   "cell_type": "code",
   "execution_count": null,
   "metadata": {},
   "outputs": [],
   "source": []
  },
  {
   "cell_type": "code",
   "execution_count": 28,
   "metadata": {},
   "outputs": [],
   "source": [
    "\n",
    "from vaderSentiment.vaderSentiment import SentimentIntensityAnalyzer\n",
    "\n",
    "analyzer = SentimentIntensityAnalyzer()"
   ]
  },
  {
   "cell_type": "code",
   "execution_count": null,
   "metadata": {},
   "outputs": [],
   "source": []
  },
  {
   "cell_type": "code",
   "execution_count": null,
   "metadata": {},
   "outputs": [],
   "source": []
  }
 ],
 "metadata": {
  "kernelspec": {
   "display_name": "Python 3",
   "language": "python",
   "name": "python3"
  },
  "language_info": {
   "codemirror_mode": {
    "name": "ipython",
    "version": 3
   },
   "file_extension": ".py",
   "mimetype": "text/x-python",
   "name": "python",
   "nbconvert_exporter": "python",
   "pygments_lexer": "ipython3",
   "version": "3.6.4"
  }
 },
 "nbformat": 4,
 "nbformat_minor": 2
}
